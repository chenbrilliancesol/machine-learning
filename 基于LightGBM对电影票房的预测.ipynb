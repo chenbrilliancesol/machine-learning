{
  "nbformat": 4,
  "nbformat_minor": 0,
  "metadata": {
    "colab": {
      "provenance": [],
      "authorship_tag": "ABX9TyNIxg4PvXE2Iz5wYhFE6eBj",
      "include_colab_link": true
    },
    "kernelspec": {
      "name": "python3",
      "display_name": "Python 3"
    },
    "language_info": {
      "name": "python"
    }
  },
  "cells": [
    {
      "cell_type": "markdown",
      "metadata": {
        "id": "view-in-github",
        "colab_type": "text"
      },
      "source": [
        "<a href=\"https://colab.research.google.com/github/chenbrilliancesol/machine-learning/blob/main/%E5%9F%BA%E4%BA%8ELightGBM%E5%AF%B9%E7%94%B5%E5%BD%B1%E7%A5%A8%E6%88%BF%E7%9A%84%E9%A2%84%E6%B5%8B.ipynb\" target=\"_parent\"><img src=\"https://colab.research.google.com/assets/colab-badge.svg\" alt=\"Open In Colab\"/></a>"
      ]
    },
    {
      "cell_type": "code",
      "execution_count": 1,
      "metadata": {
        "colab": {
          "base_uri": "https://localhost:8080/"
        },
        "id": "sGwkhdgPKPBq",
        "outputId": "b8e07dab-b363-4b4f-dcad-171aa2a0f601"
      },
      "outputs": [
        {
          "output_type": "stream",
          "name": "stderr",
          "text": [
            "/tmp/ipython-input-4080574335.py:31: UserWarning: Could not infer format, so each element will be parsed individually, falling back to `dateutil`. To ensure parsing is consistent and as-expected, please specify a format.\n",
            "  df['release_date'] = pd.to_datetime(df['release_date'], errors='coerce')\n",
            "/tmp/ipython-input-4080574335.py:31: UserWarning: Could not infer format, so each element will be parsed individually, falling back to `dateutil`. To ensure parsing is consistent and as-expected, please specify a format.\n",
            "  df['release_date'] = pd.to_datetime(df['release_date'], errors='coerce')\n"
          ]
        },
        {
          "output_type": "stream",
          "name": "stdout",
          "text": [
            "Training until validation scores don't improve for 20 rounds\n",
            "Early stopping, best iteration is:\n",
            "[63]\tvalid_0's rmse: 2.07476\n"
          ]
        }
      ],
      "source": [
        "import pandas as pd\n",
        "import numpy as np\n",
        "import json\n",
        "from sklearn.model_selection import train_test_split\n",
        "import lightgbm as lgb\n",
        "from sklearn.metrics import mean_squared_error\n",
        "import ast  # 用于安全地解析字符串形式的字面量（如列表、字典）\n",
        "\n",
        "# 1. 加载数据\n",
        "train_df = pd.read_csv(\"/content/train.csv\")\n",
        "test_df = pd.read_csv(\"/content/test.csv\")\n",
        "\n",
        "# 2. 辅助函数：解析JSON字符串字段并提取信息\n",
        "def get_json_dict(s):\n",
        "    try:\n",
        "        return ast.literal_eval(s) if pd.notna(s) else []\n",
        "    except:\n",
        "        return []  # 解析失败返回空列表\n",
        "\n",
        "def extract_features(df):\n",
        "    # 创建一个新的DataFrame来处理特征\n",
        "    features = pd.DataFrame()\n",
        "    features['id'] = df['id']\n",
        "\n",
        "    # 数值特征\n",
        "    features['budget'] = df['budget']\n",
        "    features['popularity'] = df['popularity']\n",
        "    features['runtime'] = df['runtime'].fillna(0)  # 填充运行时缺失值\n",
        "\n",
        "    # 从release_date创建时间特征\n",
        "    df['release_date'] = pd.to_datetime(df['release_date'], errors='coerce')\n",
        "    features['release_year'] = df['release_date'].dt.year\n",
        "    features['release_month'] = df['release_date'].dt.month\n",
        "    features['release_day'] = df['release_date'].dt.day\n",
        "    features['release_dayofweek'] = df['release_date'].dt.dayofweek\n",
        "\n",
        "    # 布尔特征\n",
        "    features['has_homepage'] = df['homepage'].notna().astype(int)\n",
        "    features['has_tagline'] = df['tagline'].notna().astype(int)\n",
        "    features['is_collection'] = df['belongs_to_collection'].notna().astype(int)\n",
        "\n",
        "    # 从JSON字段中提取计数特征\n",
        "    df['genres_list'] = df['genres'].apply(get_json_dict)\n",
        "    features['num_genres'] = df['genres_list'].apply(len)\n",
        "\n",
        "    df['production_companies_list'] = df['production_companies'].apply(get_json_dict)\n",
        "    features['num_production_companies'] = df['production_companies_list'].apply(len)\n",
        "\n",
        "    df['spoken_languages_list'] = df['spoken_languages'].apply(get_json_dict)\n",
        "    features['num_spoken_languages'] = df['spoken_languages_list'].apply(len)\n",
        "\n",
        "    # 这里可以继续提取更多特征，例如：\n",
        "    # - 最受欢迎的电影类型（one-hot编码）\n",
        "    # - 最大牌演员或导演（需要外部数据或复杂处理，注意避免泄漏）\n",
        "    # - Overview文本长度\n",
        "    # - 预算的对数：np.log1p(features['budget'])\n",
        "\n",
        "    # ... 更多特征工程\n",
        "\n",
        "    return features\n",
        "\n",
        "# 3. 应用特征工程函数\n",
        "train_features = extract_features(train_df)\n",
        "test_features = extract_features(test_df)\n",
        "\n",
        "# 4. 准备模型输入\n",
        "# 选择最终使用的特征列\n",
        "feature_columns = ['budget', 'popularity', 'runtime', 'release_year', 'release_month',\n",
        "                   'has_homepage', 'has_tagline', 'is_collection', 'num_genres',\n",
        "                   'num_production_companies', 'num_spoken_languages']\n",
        "# 注意：实际特征可能更多\n",
        "\n",
        "X = train_features[feature_columns]\n",
        "y = np.log1p(train_df['revenue'])  # 对目标变量进行对数变换，符合RMSLE要求\n",
        "X_test = test_features[feature_columns]\n",
        "\n",
        "# 处理缺失值（用中位数填充）\n",
        "X = X.fillna(X.median())\n",
        "X_test = X_test.fillna(X.median()) # 注意应用训练集的统计量\n",
        "\n",
        "# 5. 划分训练集和验证集\n",
        "X_train, X_val, y_train, y_val = train_test_split(X, y, test_size=0.2, random_state=42)\n",
        "\n",
        "# 6. 定义和训练LightGBM模型\n",
        "lgb_train = lgb.Dataset(X_train, y_train)\n",
        "lgb_eval = lgb.Dataset(X_val, y_val, reference=lgb_train)\n",
        "\n",
        "params = {\n",
        "    'boosting_type': 'gbdt',\n",
        "    'objective': 'regression',\n",
        "    'metric': 'rmse',\n",
        "    'num_leaves': 31,\n",
        "    'learning_rate': 0.05,\n",
        "    'feature_fraction': 0.9,\n",
        "    'bagging_fraction': 0.8,\n",
        "    'bagging_freq': 5,\n",
        "    'verbose': 0\n",
        "}\n",
        "\n",
        "gbm = lgb.train(params,\n",
        "                lgb_train,\n",
        "                num_boost_round=1000,\n",
        "                valid_sets=lgb_eval,\n",
        "                callbacks=[lgb.early_stopping(stopping_rounds=20)])\n",
        "\n",
        "# 7. 预测并转换回原始尺度（指数变换减1）\n",
        "val_pred = np.expm1(gbm.predict(X_val, num_iteration=gbm.best_iteration))\n",
        "# 计算验证集RMSLE (需要将y_val也转换回原始尺度？不对，因为训练时y是对数化的)\n",
        "# 更严谨的做法是：RMSLE是在原始空间计算的，但我们的预测值已经通过np.expm1变回原始尺度了。\n",
        "# y_val_original = np.expm1(y_val)\n",
        "# from sklearn.metrics import mean_squared_log_error\n",
        "# rmsle = np.sqrt(mean_squared_log_error(y_val_original, val_pred))\n",
        "\n",
        "# 8. 对测试集进行预测并生成提交文件\n",
        "test_pred = np.expm1(gbm.predict(X_test, num_iteration=gbm.best_iteration))\n",
        "submission = pd.DataFrame({'id': test_df['id'], 'revenue': test_pred})\n",
        "submission.to_csv('submission.csv', index=False)"
      ]
    }
  ]
}