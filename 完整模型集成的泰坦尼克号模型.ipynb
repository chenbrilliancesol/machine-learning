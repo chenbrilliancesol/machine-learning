{
  "nbformat": 4,
  "nbformat_minor": 0,
  "metadata": {
    "colab": {
      "provenance": [],
      "authorship_tag": "ABX9TyPAcJD2H33Fve73b4/mKr9n",
      "include_colab_link": true
    },
    "kernelspec": {
      "name": "python3",
      "display_name": "Python 3"
    },
    "language_info": {
      "name": "python"
    }
  },
  "cells": [
    {
      "cell_type": "markdown",
      "metadata": {
        "id": "view-in-github",
        "colab_type": "text"
      },
      "source": [
        "<a href=\"https://colab.research.google.com/github/chenbrilliancesol/machine-learning/blob/main/%E5%AE%8C%E6%95%B4%E6%A8%A1%E5%9E%8B%E9%9B%86%E6%88%90%E7%9A%84%E6%B3%B0%E5%9D%A6%E5%B0%BC%E5%85%8B%E5%8F%B7%E6%A8%A1%E5%9E%8B.ipynb\" target=\"_parent\"><img src=\"https://colab.research.google.com/assets/colab-badge.svg\" alt=\"Open In Colab\"/></a>"
      ]
    },
    {
      "cell_type": "code",
      "execution_count": 3,
      "metadata": {
        "id": "BXg4LdRdTNzL"
      },
      "outputs": [],
      "source": [
        "import pandas as pd\n",
        "import numpy as np\n",
        "import matplotlib.pyplot as plt\n",
        "import seaborn as sns\n",
        "from sklearn.model_selection import train_test_split, cross_val_score\n",
        "from sklearn.ensemble import RandomForestClassifier, GradientBoostingClassifier, VotingClassifier\n",
        "from sklearn.preprocessing import StandardScaler, OneHotEncoder\n",
        "from sklearn.compose import ColumnTransformer\n",
        "from sklearn.metrics import accuracy_score, confusion_matrix, classification_report\n",
        "from sklearn.svm import SVC\n",
        "from sklearn.utils.class_weight import compute_sample_weight\n",
        "from xgboost import XGBClassifier\n",
        "import re\n",
        "import warnings\n",
        "\n",
        "# 忽略警告\n",
        "warnings.filterwarnings('ignore')\n",
        "\n",
        "# 1. 加载数据\n",
        "train_df = pd.read_csv('train.csv')\n",
        "test_df = pd.read_csv('test.csv')\n"
      ]
    },
    {
      "cell_type": "code",
      "source": [
        "# 2. 增强版特征工程函数\n",
        "def enhanced_feature_engineering(df, is_train=True):\n",
        "    # 基础处理\n",
        "    df['Age'].fillna(df['Age'].median(), inplace=True)\n",
        "    df['Embarked'].fillna('S', inplace=True)\n",
        "    df['Fare'].fillna(df['Fare'].median(), inplace=True)\n",
        "    df['FamilySize'] = df['SibSp'] + df['Parch'] + 1\n",
        "    df['IsAlone'] = (df['FamilySize'] == 1).astype(int)\n",
        "\n",
        "    # 姓名处理\n",
        "    df['Title'] = df['Name'].str.extract(' ([A-Za-z]+)\\.', expand=False)\n",
        "    df['Surname'] = df['Name'].apply(lambda x: x.split(',')[0])\n",
        "    df['NameLength'] = df['Name'].apply(len)\n",
        "\n",
        "    # 称谓标准化\n",
        "    title_mapping = {\n",
        "        \"Mr\": 1, \"Miss\": 2, \"Mrs\": 3, \"Master\": 4,\n",
        "        \"Dr\": 5, \"Rev\": 5, \"Col\": 5, \"Major\": 5, \"Mlle\": 2,\n",
        "        \"Mme\": 3, \"Don\": 5, \"Dona\": 3, \"Lady\": 3, \"Countess\": 3,\n",
        "        \"Jonkheer\": 5, \"Sir\": 5, \"Capt\": 5, \"Ms\": 2\n",
        "    }\n",
        "    df['Title'] = df['Title'].map(title_mapping).fillna(0)\n",
        "\n",
        "    # 新增基础特征\n",
        "    df['IsChild'] = (df['Age'] < 16).astype(int)\n",
        "    df['FarePerPerson'] = df['Fare'] / (df['FamilySize'] + 1e-5)\n",
        "    df['FareClassRatio'] = df['Fare'] / df['Pclass']\n",
        "    df['CabinGroup'] = df['Cabin'].str[0].fillna('Unknown')\n",
        "\n",
        "    # 新增针对错误分析的改进特征\n",
        "    df['IsElderly'] = (df['Age'] > 60).astype(int)\n",
        "    df['UpperClassMale'] = ((df['Pclass'] <= 2) & (df['Sex'] == 'male') & (df['Age'] > 18)).astype(int)\n",
        "    df['Class_Sex'] = df['Pclass'].astype(str) + '_' + df['Sex']\n",
        "    df['FamilyType'] = np.select(\n",
        "        [\n",
        "            df['FamilySize'] == 1,\n",
        "            (df['FamilySize'] > 1) & (df['FamilySize'] <= 4),\n",
        "            df['FamilySize'] > 4\n",
        "        ],\n",
        "        ['Alone', 'SmallFamily', 'LargeFamily'],\n",
        "        default='Unknown'\n",
        "    )\n",
        "    df['AgeGroup'] = pd.cut(df['Age'],\n",
        "                           bins=[0, 5, 18, 30, 50, 70, 100],\n",
        "                           labels=['Infant', 'Child', 'Young', 'Adult', 'Senior', 'Elderly'])\n",
        "\n",
        "    # 家庭幸存率特征（仅在训练集计算）\n",
        "    if is_train:\n",
        "        family_survival = df.groupby(['Surname', 'Fare']).Survived.mean().reset_index()\n",
        "        family_survival.columns = ['Surname', 'Fare', 'FamilySurvivalRate']\n",
        "        df = pd.merge(df, family_survival, on=['Surname', 'Fare'], how='left')\n",
        "        df['FamilySurvivalRate'].fillna(0.5, inplace=True)\n",
        "    else:\n",
        "        # 对于测试集，使用训练集计算的生存率\n",
        "        # 需要在主流程中处理\n",
        "        pass\n",
        "    return df"
      ],
      "metadata": {
        "id": "JhaT85E6TW2o"
      },
      "execution_count": 4,
      "outputs": []
    },
    {
      "cell_type": "code",
      "source": [
        "# 3. 应用预处理\n",
        "print(\"应用特征工程...\")\n",
        "train_df = enhanced_feature_engineering(train_df, is_train=True)\n",
        "test_df = enhanced_feature_engineering(test_df, is_train=False)\n",
        "\n"
      ],
      "metadata": {
        "colab": {
          "base_uri": "https://localhost:8080/"
        },
        "id": "RZo6lszYTXHH",
        "outputId": "91dbb8c6-f1be-4ee6-ffa7-a2db171a5c8b"
      },
      "execution_count": 5,
      "outputs": [
        {
          "output_type": "stream",
          "name": "stdout",
          "text": [
            "应用特征工程...\n"
          ]
        }
      ]
    },
    {
      "cell_type": "code",
      "source": [
        "# 4. 修复：计算家庭幸存率（仅用训练集）并应用到测试集\n",
        "print(\"计算家庭幸存率...\")\n",
        "\n",
        "# 只在训练集计算家庭幸存率\n",
        "family_survival = train_df.groupby(['Surname', 'Fare'])['Survived'].mean().reset_index()\n",
        "family_survival.columns = ['Surname', 'Fare', 'FamilySurvivalRate']\n",
        "\n",
        "# 应用家庭幸存率到训练集\n",
        "train_df = train_df.merge(\n",
        "    family_survival,\n",
        "    on=['Surname', 'Fare'],\n",
        "    how='left',\n",
        "    suffixes=('', '_new')\n",
        ")\n",
        "\n",
        "# 更新训练集的家庭幸存率\n",
        "train_df['FamilySurvivalRate'] = train_df['FamilySurvivalRate_new'].fillna(train_df['FamilySurvivalRate'])\n",
        "train_df.drop(columns=['FamilySurvivalRate_new'], inplace=True)\n",
        "\n",
        "# 应用家庭幸存率到测试集\n",
        "test_df = test_df.merge(\n",
        "    family_survival,\n",
        "    on=['Surname', 'Fare'],\n",
        "    how='left',\n",
        "    suffixes=('', '_new')\n",
        ")\n",
        "\n",
        "# 更新测试集的家庭幸存率\n",
        "test_df['FamilySurvivalRate'] = test_df['FamilySurvivalRate_new'].fillna(test_df['FamilySurvivalRate'])\n",
        "test_df.drop(columns=['FamilySurvivalRate_new'], inplace=True)\n",
        "\n",
        "# 填充剩余的缺失值\n",
        "train_df['FamilySurvivalRate'].fillna(0.5, inplace=True)\n",
        "test_df['FamilySurvivalRate'].fillna(0.5, inplace=True)\n",
        "\n",
        "print(f\"训练集家庭幸存率计算完成，平均幸存率: {train_df['FamilySurvivalRate'].mean():.4f}\")"
      ],
      "metadata": {
        "colab": {
          "base_uri": "https://localhost:8080/"
        },
        "id": "MhXmOCgFVFlS",
        "outputId": "f10b347b-3047-44fb-e4a8-ef506f3e1fc4"
      },
      "execution_count": 7,
      "outputs": [
        {
          "output_type": "stream",
          "name": "stdout",
          "text": [
            "计算家庭幸存率...\n",
            "训练集家庭幸存率计算完成，平均幸存率: 0.3838\n"
          ]
        }
      ]
    },
    {
      "cell_type": "code",
      "source": [
        "# 5. 特征选择\n",
        "features = [\n",
        "    'Pclass', 'Sex', 'Age', 'SibSp', 'Parch', 'Fare', 'Embarked',\n",
        "    'FamilySize', 'IsAlone', 'Title', 'NameLength', 'IsChild',\n",
        "    'FarePerPerson', 'FareClassRatio', 'FamilySurvivalRate',\n",
        "    'IsElderly', 'UpperClassMale', 'Class_Sex', 'FamilyType'\n",
        "]\n",
        "\n",
        "# 添加类别特征和数值特征\n",
        "categorical_cols = ['Pclass', 'Sex', 'Embarked', 'Title', 'Class_Sex', 'FamilyType']\n",
        "numerical_cols = [col for col in features if col not in categorical_cols]\n",
        "\n",
        "# 6. 准备特征和标签\n",
        "X = train_df[features]\n",
        "y = train_df['Survived']\n",
        "\n",
        "# 7. 预处理管道\n",
        "print(\"创建预处理管道...\")\n",
        "preprocessor = ColumnTransformer(\n",
        "    transformers=[\n",
        "        ('num', StandardScaler(), numerical_cols),\n",
        "        ('cat', OneHotEncoder(handle_unknown='ignore', sparse_output=False), categorical_cols)\n",
        "    ])\n",
        "\n",
        "X_preprocessed = preprocessor.fit_transform(X)\n"
      ],
      "metadata": {
        "colab": {
          "base_uri": "https://localhost:8080/"
        },
        "id": "GEKENnGtTXSN",
        "outputId": "df9d01e7-e718-4078-bab3-01e0c6eb8ae7"
      },
      "execution_count": 8,
      "outputs": [
        {
          "output_type": "stream",
          "name": "stdout",
          "text": [
            "创建预处理管道...\n"
          ]
        }
      ]
    },
    {
      "cell_type": "code",
      "source": [
        "# 8. 划分训练集和验证集（用于错误分析）\n",
        "print(\"划分训练集和验证集...\")\n",
        "# 保存原始索引\n",
        "indices = np.arange(len(X_preprocessed))\n",
        "\n",
        "# 划分数据集并获取索引\n",
        "X_train, X_val, y_train, y_val, idx_train, idx_val = train_test_split(\n",
        "    X_preprocessed,\n",
        "    y,\n",
        "    indices,  # 传递索引数组\n",
        "    test_size=0.2,\n",
        "    stratify=y,\n",
        "    random_state=42\n",
        ")\n",
        "\n",
        "# 9. 模型定义与样本权重\n",
        "print(\"定义模型和样本权重...\")\n",
        "# 先定义模型字典\n",
        "models = {\n",
        "    \"RandomForest\": RandomForestClassifier(\n",
        "        n_estimators=600,\n",
        "        max_depth=5,\n",
        "        min_samples_leaf=3,\n",
        "        class_weight='balanced',\n",
        "        random_state=42\n",
        "    ),\n",
        "    \"GradientBoost\": GradientBoostingClassifier(\n",
        "        n_estimators=300,\n",
        "        learning_rate=0.05,\n",
        "        max_depth=3,\n",
        "        subsample=0.8,\n",
        "        random_state=42\n",
        "    ),\n",
        "    \"XGBoost\": XGBClassifier(\n",
        "        n_estimators=400,\n",
        "        learning_rate=0.1,\n",
        "        max_depth=3,\n",
        "        subsample=0.7,\n",
        "        colsample_bytree=0.8,\n",
        "        use_label_encoder=False,\n",
        "        eval_metric='logloss',\n",
        "        random_state=42\n",
        "    ),\n",
        "    \"SVM\": SVC(\n",
        "        C=0.5,\n",
        "        kernel='rbf',\n",
        "        probability=True,\n",
        "        class_weight='balanced',\n",
        "        random_state=42\n",
        "    )\n",
        "}\n",
        "\n",
        "# 计算基础样本权重\n",
        "sample_weights = compute_sample_weight('balanced', y_train)\n",
        "\n",
        "# 增加特定群体的权重 - 使用原始索引访问数据\n",
        "for i, idx in enumerate(idx_train):\n",
        "    row = train_df.iloc[idx]  # 使用原始索引获取行数据\n",
        "\n",
        "    # 对头等舱成年男性增加权重\n",
        "    if row['UpperClassMale'] == 1:\n",
        "        sample_weights[i] *= 2.0\n",
        "\n",
        "    # 对老人增加权重\n",
        "    if row['IsElderly'] == 1:\n",
        "        sample_weights[i] *= 3.0\n",
        "\n",
        "    # 对儿童增加权重\n",
        "    if row['Age'] < 5:\n",
        "        sample_weights[i] *= 2.0\n",
        "\n",
        "# 10. 模型集成\n",
        "print(\"创建模型集成...\")\n",
        "ensemble = VotingClassifier(\n",
        "    estimators=[\n",
        "        ('rf', models[\"RandomForest\"]),\n",
        "        ('xgb', models[\"XGBoost\"]),\n",
        "        ('svm', models[\"SVM\"])\n",
        "    ],\n",
        "    voting='soft',\n",
        "    weights=[2, 3, 1]  # 给XGBoost更高权重\n",
        ")\n",
        "\n"
      ],
      "metadata": {
        "colab": {
          "base_uri": "https://localhost:8080/"
        },
        "id": "V_uLFE2hTtRl",
        "outputId": "0ea46bee-0fbf-469f-cccc-e43673ef05df"
      },
      "execution_count": 9,
      "outputs": [
        {
          "output_type": "stream",
          "name": "stdout",
          "text": [
            "划分训练集和验证集...\n",
            "定义模型和样本权重...\n",
            "创建模型集成...\n"
          ]
        }
      ]
    },
    {
      "cell_type": "code",
      "source": [
        "# 11. 训练集成模型\n",
        "print(\"训练集成模型...\")\n",
        "ensemble.fit(X_train, y_train, sample_weight=sample_weights)\n",
        "\n",
        "# 12. 在验证集上评估\n",
        "val_predictions = ensemble.predict(X_val)\n",
        "val_accuracy = accuracy_score(y_val, val_predictions)\n",
        "print(f\"\\n验证集准确率: {val_accuracy:.4f}\")\n",
        "print(classification_report(y_val, val_predictions))\n",
        "\n",
        "# 修复第13部分：错误分析可视化\n",
        "print(\"\\n进行错误分析...\")\n",
        "# 创建包含预测结果的DataFrame\n",
        "val_results = pd.DataFrame({\n",
        "    'PassengerId': train_df.iloc[idx_val]['PassengerId'].values,\n",
        "    'Actual': y_val.values,\n",
        "    'Predicted': val_predictions\n",
        "})\n",
        "\n",
        "# 合并原始特征\n",
        "val_original_data = train_df.iloc[idx_val][['Name', 'Pclass', 'Sex', 'Age', 'SibSp', 'Parch', 'Fare', 'Embarked', 'IsElderly', 'UpperClassMale']].reset_index(drop=True)\n",
        "val_results = pd.concat([val_results, val_original_data], axis=1)\n",
        "\n",
        "# 识别错误预测\n",
        "wrong_predictions = val_results[val_results['Actual'] != val_results['Predicted']]\n",
        "print(f\"错误预测数量: {len(wrong_predictions)}/{len(y_val)}\")\n",
        "\n",
        "# 保存错误预测到CSV\n",
        "if not wrong_predictions.empty:\n",
        "    wrong_predictions.to_csv('wrong_predictions.csv', index=False)\n",
        "    print(\"已保存错误预测到 wrong_predictions.csv\")\n",
        "else:\n",
        "    print(\"没有错误预测可保存\")\n",
        "\n",
        "# 混淆矩阵\n",
        "plt.figure(figsize=(10, 6))\n",
        "cm = confusion_matrix(y_val, val_predictions)\n",
        "sns.heatmap(\n",
        "    cm,\n",
        "    annot=True,\n",
        "    fmt='d',\n",
        "    cmap='Blues',\n",
        "    xticklabels=['死亡(0)', '幸存(1)'],\n",
        "    yticklabels=['死亡(0)', '幸存(1)']\n",
        ")\n",
        "plt.xlabel('预测值')\n",
        "plt.ylabel('实际值')\n",
        "plt.title('混淆矩阵')\n",
        "plt.savefig('confusion_matrix.png', bbox_inches='tight')\n",
        "plt.show()\n",
        "\n",
        "# 错误特征分布 - 添加空检查\n",
        "if not wrong_predictions.empty:\n",
        "    # 创建特征列表，只包含实际存在的特征\n",
        "    available_features = []\n",
        "    for feature in ['Pclass', 'Sex', 'Age', 'IsElderly', 'UpperClassMale']:\n",
        "        if feature in wrong_predictions.columns:\n",
        "            available_features.append(feature)\n",
        "\n",
        "    # 只有当有多个错误预测时才绘制分布图\n",
        "    if len(wrong_predictions) > 1:\n",
        "        plt.figure(figsize=(15, 10))\n",
        "        num_features = min(len(available_features), 5)  # 最多5个特征\n",
        "        num_rows = (num_features + 2) // 3  # 计算行数\n",
        "        for i, feature in enumerate(available_features[:5], 1):  # 最多显示5个特征\n",
        "            plt.subplot(num_rows, 3, i)\n",
        "\n",
        "            # 对于分类特征使用计数图\n",
        "            if wrong_predictions[feature].dtype == 'object' or wrong_predictions[feature].nunique() < 5:\n",
        "                sns.countplot(\n",
        "                    data=wrong_predictions,\n",
        "                    x=feature,\n",
        "                    hue='Predicted'\n",
        "                )\n",
        "            else:\n",
        "                # 对于数值特征使用直方图\n",
        "                sns.histplot(\n",
        "                    data=wrong_predictions,\n",
        "                    x=feature,\n",
        "                    hue='Predicted',\n",
        "                    element='step',\n",
        "                    stat='density',\n",
        "                    common_norm=False,\n",
        "                    kde=True,\n",
        "                    alpha=0.6\n",
        "                )\n",
        "            plt.title(f'错误预测的{feature}分布')\n",
        "        plt.tight_layout()\n",
        "        plt.savefig('error_analysis.png')\n",
        "        plt.show()\n",
        "    else:\n",
        "        print(f\"只有 {len(wrong_predictions)} 个错误预测，不足以绘制分布图\")\n",
        "\n",
        "        # 显示错误预测的详细信息\n",
        "        print(\"\\n错误预测详情:\")\n",
        "        print(wrong_predictions[['PassengerId', 'Name', 'Actual', 'Predicted', 'Pclass', 'Sex', 'Age']])\n",
        "else:\n",
        "    print(\"没有错误预测可分析\")"
      ],
      "metadata": {
        "colab": {
          "base_uri": "https://localhost:8080/",
          "height": 1000
        },
        "id": "btTg9bhCTtku",
        "outputId": "0bc9062b-9023-49b8-c411-0c73c568779b"
      },
      "execution_count": 14,
      "outputs": [
        {
          "output_type": "stream",
          "name": "stdout",
          "text": [
            "训练集成模型...\n",
            "\n",
            "验证集准确率: 0.9777\n",
            "              precision    recall  f1-score   support\n",
            "\n",
            "           0       0.99      0.97      0.98       110\n",
            "           1       0.96      0.99      0.97        69\n",
            "\n",
            "    accuracy                           0.98       179\n",
            "   macro avg       0.97      0.98      0.98       179\n",
            "weighted avg       0.98      0.98      0.98       179\n",
            "\n",
            "\n",
            "进行错误分析...\n",
            "错误预测数量: 4/179\n",
            "已保存错误预测到 wrong_predictions.csv\n"
          ]
        },
        {
          "output_type": "display_data",
          "data": {
            "text/plain": [
              "<Figure size 1000x600 with 2 Axes>"
            ],
            "image/png": "[encoded data removed]"
          },
          "metadata": {}
        },
        {
          "output_type": "display_data",
          "data": {
            "text/plain": [
              "<Figure size 1500x1000 with 5 Axes>"
            ],
            "image/png": "[encoded data removed]"
          },
          "metadata": {}
        }
      ]
    },
    {
      "cell_type": "code",
      "source": [
        "# 14. 后处理函数\n",
        "def smart_postprocessing(preds, test_df):\n",
        "    \"\"\"\n",
        "    基于业务知识的后处理规则\n",
        "    \"\"\"\n",
        "    # 获取关键特征\n",
        "    ages = test_df['Age'].values\n",
        "    classes = test_df['Pclass'].values\n",
        "    sexes = test_df['Sex'].values\n",
        "\n",
        "    # 创建副本\n",
        "    adjusted_preds = preds.copy()\n",
        "\n",
        "    # 规则1：老人(>60)在头等/二等舱应更可能幸存\n",
        "    for i in range(len(adjusted_preds)):\n",
        "        if ages[i] > 60 and classes[i] <= 2:\n",
        "            adjusted_preds[i] = 1  # 设置为幸存\n",
        "\n",
        "    # 规则2：头等/二等舱成年男性应更可能死亡\n",
        "    for i in range(len(adjusted_preds)):\n",
        "        if classes[i] <= 2 and sexes[i] == 'male' and ages[i] > 18:\n",
        "            adjusted_preds[i] = 0  # 设置为死亡\n",
        "\n",
        "    # 规则3：儿童(<5)应更可能幸存\n",
        "    for i in range(len(adjusted_preds)):\n",
        "        if ages[i] < 5:\n",
        "            adjusted_preds[i] = 1  # 设置为幸存\n",
        "\n",
        "    # 规则4：独自旅行的老人更可能死亡\n",
        "    for i in range(len(adjusted_preds)):\n",
        "        if ages[i] > 60 and test_df['IsAlone'].iloc[i] == 1:\n",
        "            adjusted_preds[i] = 0  # 设置为死亡\n",
        "\n",
        "    print(f\"后处理调整了 {sum(adjusted_preds != preds)} 个预测\")\n",
        "    return adjusted_preds"
      ],
      "metadata": {
        "id": "eGEzhgD9Ttv3"
      },
      "execution_count": 15,
      "outputs": []
    },
    {
      "cell_type": "code",
      "source": [
        "# 15. 在整个训练集上重新训练模型（用于最终预测）\n",
        "print(\"\\n在整个训练集上重新训练模型...\")\n",
        "# 使用相同的预处理\n",
        "X_full_preprocessed = preprocessor.transform(X)\n",
        "\n",
        "# 计算全量样本权重\n",
        "full_sample_weights = compute_sample_weight('balanced', y)\n",
        "for idx in range(len(X)):\n",
        "    row = train_df.iloc[idx]\n",
        "    if row['UpperClassMale'] == 1:\n",
        "        full_sample_weights[idx] *= 2.0\n",
        "    if row['IsElderly'] == 1:\n",
        "        full_sample_weights[idx] *= 3.0\n",
        "    if row['Age'] < 5:\n",
        "        full_sample_weights[idx] *= 2.0\n",
        "\n",
        "# 训练最终模型\n",
        "final_model = VotingClassifier(\n",
        "    estimators=[\n",
        "        ('rf', RandomForestClassifier(\n",
        "            n_estimators=600,\n",
        "            max_depth=5,\n",
        "            min_samples_leaf=3,\n",
        "            class_weight='balanced',\n",
        "            random_state=42\n",
        "        )),\n",
        "        ('xgb', XGBClassifier(\n",
        "            n_estimators=400,\n",
        "            learning_rate=0.1,\n",
        "            max_depth=3,\n",
        "            subsample=0.7,\n",
        "            colsample_bytree=0.8,\n",
        "            use_label_encoder=False,\n",
        "            eval_metric='logloss',\n",
        "            random_state=42\n",
        "        )),\n",
        "        ('svm', SVC(\n",
        "            C=0.5,\n",
        "            kernel='rbf',\n",
        "            probability=True,\n",
        "            class_weight='balanced',\n",
        "            random_state=42\n",
        "        ))\n",
        "    ],\n",
        "    voting='soft',\n",
        "    weights=[2, 3, 1]\n",
        ")\n",
        "\n",
        "final_model.fit(X_full_preprocessed, y, sample_weight=full_sample_weights)\n",
        "\n",
        "# 16. 在测试集上进行预测\n",
        "print(\"在测试集上进行预测...\")\n",
        "X_test = test_df[features]\n",
        "X_test_preprocessed = preprocessor.transform(X_test)\n",
        "test_predictions = final_model.predict(X_test_preprocessed)\n",
        "\n",
        "# 应用后处理\n",
        "final_predictions = smart_postprocessing(test_predictions, test_df)\n",
        "\n",
        "# 17. 创建提交文件\n",
        "submission = pd.DataFrame({\n",
        "    'PassengerId': test_df['PassengerId'],\n",
        "    'Survived': final_predictions\n",
        "})\n",
        "submission.to_csv('titanic_submission.csv', index=False)\n",
        "print(\"✅ 提交文件已保存为 titanic_submission.csv\")"
      ],
      "metadata": {
        "colab": {
          "base_uri": "https://localhost:8080/"
        },
        "id": "Tq_-mp2vTt9S",
        "outputId": "f62674a2-5973-453f-976e-f0a5935365d6"
      },
      "execution_count": 16,
      "outputs": [
        {
          "output_type": "stream",
          "name": "stdout",
          "text": [
            "\n",
            "在整个训练集上重新训练模型...\n",
            "在测试集上进行预测...\n",
            "后处理调整了 28 个预测\n",
            "✅ 提交文件已保存为 titanic_submission.csv\n"
          ]
        }
      ]
    },
    {
      "cell_type": "code",
      "source": [
        "# 18. 特殊群体分析（用于调试）\n",
        "def analyze_special_groups(df, predictions):\n",
        "    \"\"\"分析特殊群体的预测结果\"\"\"\n",
        "    results = []\n",
        "\n",
        "    # 老人(>60)在头等/二等舱\n",
        "    elderly_upper = df[(df['Age'] > 60) & (df['Pclass'] <= 2)]\n",
        "    if not elderly_upper.empty:\n",
        "        el_survive_rate = predictions[elderly_upper.index].mean()\n",
        "        results.append(f\"老人(>60)在头等/二等舱: {len(elderly_upper)}人, 预测幸存率: {el_survive_rate:.2f}\")\n",
        "\n",
        "    # 头等/二等舱成年男性\n",
        "    upper_males = df[(df['Pclass'] <= 2) & (df['Sex'] == 'male') & (df['Age'] > 18)]\n",
        "    if not upper_males.empty:\n",
        "        um_survive_rate = predictions[upper_males.index].mean()\n",
        "        results.append(f\"头等/二等舱成年男性: {len(upper_males)}人, 预测幸存率: {um_survive_rate:.2f}\")\n",
        "\n",
        "    # 儿童(<5)\n",
        "    children = df[df['Age'] < 5]\n",
        "    if not children.empty:\n",
        "        ch_survive_rate = predictions[children.index].mean()\n",
        "        results.append(f\"儿童(<5岁): {len(children)}人, 预测幸存率: {ch_survive_rate:.2f}\")\n",
        "\n",
        "    # 独自旅行的老人\n",
        "    elderly_alone = df[(df['Age'] > 60) & (df['IsAlone'] == 1)]\n",
        "    if not elderly_alone.empty:\n",
        "        ea_survive_rate = predictions[elderly_alone.index].mean()\n",
        "        results.append(f\"独自旅行的老人: {len(elderly_alone)}人, 预测幸存率: {ea_survive_rate:.2f}\")\n",
        "\n",
        "    return results\n",
        "\n",
        "# 在测试集上分析特殊群体\n",
        "special_group_analysis = analyze_special_groups(test_df, final_predictions)\n",
        "print(\"\\n测试集特殊群体分析:\")\n",
        "for analysis in special_group_analysis:\n",
        "    print(f\"  - {analysis}\")\n",
        "\n",
        "print(\"\\n所有处理完成! 请提交 titanic_submission.csv 到Kaggle\")"
      ],
      "metadata": {
        "colab": {
          "base_uri": "https://localhost:8080/"
        },
        "id": "Br99uUZZUGP3",
        "outputId": "40681d2c-5453-4897-97c1-421a352d4f7b"
      },
      "execution_count": 17,
      "outputs": [
        {
          "output_type": "stream",
          "name": "stdout",
          "text": [
            "\n",
            "测试集特殊群体分析:\n",
            "  - 老人(>60)在头等/二等舱: 10人, 预测幸存率: 0.40\n",
            "  - 头等/二等舱成年男性: 111人, 预测幸存率: 0.00\n",
            "  - 儿童(<5岁): 11人, 预测幸存率: 1.00\n",
            "  - 独自旅行的老人: 3人, 预测幸存率: 0.00\n",
            "\n",
            "所有处理完成! 请提交 titanic_submission.csv 到Kaggle\n"
          ]
        }
      ]
    }
  ]
}